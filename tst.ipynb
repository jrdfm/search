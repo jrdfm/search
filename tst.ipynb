{
 "cells": [
  {
   "cell_type": "code",
   "execution_count": null,
   "metadata": {},
   "outputs": [
    {
     "ename": "",
     "evalue": "",
     "output_type": "error",
     "traceback": [
      "\u001b[1;31mFailed to start the Kernel 'Python 3.11.3'. \n",
      "\u001b[1;31mView Jupyter <a href='command:jupyter.viewOutput'>log</a> for further details. Cannot find module '@jupyterlab/services'\n",
      "\u001b[1;31mRequire stack:\n",
      "\u001b[1;31m- /home/jrdfm/.vscode-server/extensions/ms-toolsai.jupyter-2023.11.1100101639/dist/extension.node.js\n",
      "\u001b[1;31m- /home/jrdfm/.vscode-server/extensions/ms-toolsai.jupyter-2023.11.1100101639/dist/extension.node.proxy.js\n",
      "\u001b[1;31m- /home/jrdfm/.vscode-server/bin/05047486b6df5eb8d44b2ecd70ea3bdf775fd937/out/vs/loader.js\n",
      "\u001b[1;31m- /home/jrdfm/.vscode-server/bin/05047486b6df5eb8d44b2ecd70ea3bdf775fd937/out/bootstrap-amd.js\n",
      "\u001b[1;31m- /home/jrdfm/.vscode-server/bin/05047486b6df5eb8d44b2ecd70ea3bdf775fd937/out/bootstrap-fork.js"
     ]
    }
   ],
   "source": [
    "import pathlib\n",
    "import textwrap\n",
    "\n",
    "import google.generativeai as genai"
   ]
  }
 ],
 "metadata": {
  "kernelspec": {
   "display_name": "Python 3",
   "language": "python",
   "name": "python3"
  },
  "language_info": {
   "name": "python",
   "version": "3.11.3"
  }
 },
 "nbformat": 4,
 "nbformat_minor": 2
}
