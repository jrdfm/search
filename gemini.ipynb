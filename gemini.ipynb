{
 "cells": [
  {
   "cell_type": "code",
   "execution_count": 1,
   "metadata": {},
   "outputs": [
    {
     "data": {
      "text/plain": [
       "True"
      ]
     },
     "execution_count": 1,
     "metadata": {},
     "output_type": "execute_result"
    }
   ],
   "source": [
    "import os\n",
    "from dotenv import load_dotenv\n",
    "\n",
    "\n",
    "\n",
    "# Load environment variables from the .env file\n",
    "load_dotenv()"
   ]
  },
  {
   "cell_type": "code",
   "execution_count": 2,
   "metadata": {},
   "outputs": [],
   "source": [
    "GOOGLE_API_KEY = os.getenv('GOOGLE_API_KEY')\n",
    "\n",
    "search_en_id = os.getenv('search_en_id')\n",
    "api_key = os.getenv('api_key')"
   ]
  },
  {
   "cell_type": "code",
   "execution_count": 3,
   "metadata": {},
   "outputs": [],
   "source": [
    "import google.generativeai as genai"
   ]
  },
  {
   "cell_type": "code",
   "execution_count": 9,
   "metadata": {},
   "outputs": [
    {
     "name": "stdout",
     "output_type": "stream",
     "text": [
      "models/gemini-1.0-pro\n",
      "models/gemini-1.0-pro-001\n",
      "models/gemini-1.0-pro-latest\n",
      "models/gemini-1.0-pro-vision-latest\n",
      "models/gemini-pro\n",
      "models/gemini-pro-vision\n"
     ]
    }
   ],
   "source": [
    "for m in genai.list_models():\n",
    "\tif 'generateContent' in m.supported_generation_methods:\n",
    "\t\tprint(m.name)"
   ]
  },
  {
   "cell_type": "code",
   "execution_count": 6,
   "metadata": {},
   "outputs": [
    {
     "name": "stdout",
     "output_type": "stream",
     "text": [
      "Hi there! I'm a chatbot too. It's nice to meet you. What can I help you with today?\n"
     ]
    }
   ],
   "source": [
    "\"\"\"\n",
    "At the command line, only need to run once to install the package via pip:\n",
    "\n",
    "$ pip install google-generativeai\n",
    "\"\"\"\n",
    "\n",
    "import google.generativeai as genai\n",
    "\n",
    "genai.configure(api_key=GOOGLE_API_KEY)\n",
    "\n",
    "# Set up the model\n",
    "generation_config = {\n",
    "  \"temperature\": 0.9,\n",
    "  \"top_p\": 1,\n",
    "  \"top_k\": 1,\n",
    "  \"max_output_tokens\": 2048,\n",
    "}\n",
    "\n",
    "safety_settings = [\n",
    "  {\n",
    "    \"category\": \"HARM_CATEGORY_HARASSMENT\",\n",
    "    \"threshold\": \"BLOCK_MEDIUM_AND_ABOVE\"\n",
    "  },\n",
    "  {\n",
    "    \"category\": \"HARM_CATEGORY_HATE_SPEECH\",\n",
    "    \"threshold\": \"BLOCK_MEDIUM_AND_ABOVE\"\n",
    "  },\n",
    "  {\n",
    "    \"category\": \"HARM_CATEGORY_SEXUALLY_EXPLICIT\",\n",
    "    \"threshold\": \"BLOCK_MEDIUM_AND_ABOVE\"\n",
    "  },\n",
    "  {\n",
    "    \"category\": \"HARM_CATEGORY_DANGEROUS_CONTENT\",\n",
    "    \"threshold\": \"BLOCK_MEDIUM_AND_ABOVE\"\n",
    "  },\n",
    "]\n",
    "\n",
    "model = genai.GenerativeModel(model_name=\"gemini-1.0-pro-001\",\n",
    "                              generation_config=generation_config,\n",
    "                              safety_settings=safety_settings)\n",
    "\n",
    "convo = model.start_chat(history=[\n",
    "])\n",
    "\n",
    "convo.send_message(\"HI! I'm a chatbot!\")\n",
    "print(convo.last.text)"
   ]
  },
  {
   "cell_type": "code",
   "execution_count": 12,
   "metadata": {},
   "outputs": [
    {
     "ename": "ValueError",
     "evalue": "The `response.text` quick accessor only works for simple (single-`Part`) text responses. This response is not simple text.Use the `result.parts` accessor or the full `result.candidates[index].content.parts` lookup instead.",
     "output_type": "error",
     "traceback": [
      "\u001b[0;31m---------------------------------------------------------------------------\u001b[0m",
      "\u001b[0;31mValueError\u001b[0m                                Traceback (most recent call last)",
      "Input \u001b[0;32mIn [12]\u001b[0m, in \u001b[0;36m<cell line: 4>\u001b[0;34m()\u001b[0m\n\u001b[1;32m      1\u001b[0m model \u001b[38;5;241m=\u001b[39m genai\u001b[38;5;241m.\u001b[39mGenerativeModel(\u001b[38;5;124m'\u001b[39m\u001b[38;5;124mgemini-1.0-pro-latest\u001b[39m\u001b[38;5;124m'\u001b[39m)\n\u001b[1;32m      2\u001b[0m response \u001b[38;5;241m=\u001b[39m model\u001b[38;5;241m.\u001b[39mgenerate_content(\u001b[38;5;124m\"\u001b[39m\u001b[38;5;124mWhat is the meaning of life?\u001b[39m\u001b[38;5;124m\"\u001b[39m)\n\u001b[0;32m----> 4\u001b[0m \u001b[38;5;28mprint\u001b[39m(\u001b[43mresponse\u001b[49m\u001b[38;5;241;43m.\u001b[39;49m\u001b[43mtext\u001b[49m)\n",
      "File \u001b[0;32m~/.local/lib/python3.10/site-packages/google/generativeai/types/generation_types.py:328\u001b[0m, in \u001b[0;36mBaseGenerateContentResponse.text\u001b[0;34m(self)\u001b[0m\n\u001b[1;32m    326\u001b[0m parts \u001b[38;5;241m=\u001b[39m \u001b[38;5;28mself\u001b[39m\u001b[38;5;241m.\u001b[39mparts\n\u001b[1;32m    327\u001b[0m \u001b[38;5;28;01mif\u001b[39;00m \u001b[38;5;28mlen\u001b[39m(parts) \u001b[38;5;241m!=\u001b[39m \u001b[38;5;241m1\u001b[39m \u001b[38;5;129;01mor\u001b[39;00m \u001b[38;5;124m\"\u001b[39m\u001b[38;5;124mtext\u001b[39m\u001b[38;5;124m\"\u001b[39m \u001b[38;5;129;01mnot\u001b[39;00m \u001b[38;5;129;01min\u001b[39;00m parts[\u001b[38;5;241m0\u001b[39m]:\n\u001b[0;32m--> 328\u001b[0m     \u001b[38;5;28;01mraise\u001b[39;00m \u001b[38;5;167;01mValueError\u001b[39;00m(\n\u001b[1;32m    329\u001b[0m         \u001b[38;5;124m\"\u001b[39m\u001b[38;5;124mThe `response.text` quick accessor only works for \u001b[39m\u001b[38;5;124m\"\u001b[39m\n\u001b[1;32m    330\u001b[0m         \u001b[38;5;124m\"\u001b[39m\u001b[38;5;124msimple (single-`Part`) text responses. This response is not simple text.\u001b[39m\u001b[38;5;124m\"\u001b[39m\n\u001b[1;32m    331\u001b[0m         \u001b[38;5;124m\"\u001b[39m\u001b[38;5;124mUse the `result.parts` accessor or the full \u001b[39m\u001b[38;5;124m\"\u001b[39m\n\u001b[1;32m    332\u001b[0m         \u001b[38;5;124m\"\u001b[39m\u001b[38;5;124m`result.candidates[index].content.parts` lookup \u001b[39m\u001b[38;5;124m\"\u001b[39m\n\u001b[1;32m    333\u001b[0m         \u001b[38;5;124m\"\u001b[39m\u001b[38;5;124minstead.\u001b[39m\u001b[38;5;124m\"\u001b[39m\n\u001b[1;32m    334\u001b[0m     )\n\u001b[1;32m    335\u001b[0m \u001b[38;5;28;01mreturn\u001b[39;00m parts[\u001b[38;5;241m0\u001b[39m]\u001b[38;5;241m.\u001b[39mtext\n",
      "\u001b[0;31mValueError\u001b[0m: The `response.text` quick accessor only works for simple (single-`Part`) text responses. This response is not simple text.Use the `result.parts` accessor or the full `result.candidates[index].content.parts` lookup instead."
     ]
    }
   ],
   "source": [
    "model = genai.GenerativeModel('gemini-1.0-pro-latest')\n",
    "response = model.generate_content(\"What is the meaning of life?\")\n",
    "\n",
    "# print(response.text)"
   ]
  },
  {
   "cell_type": "code",
   "execution_count": 14,
   "metadata": {},
   "outputs": [
    {
     "data": {
      "text/plain": [
       "[]"
      ]
     },
     "execution_count": 14,
     "metadata": {},
     "output_type": "execute_result"
    }
   ],
   "source": [
    "response.parts"
   ]
  },
  {
   "cell_type": "code",
   "execution_count": 30,
   "metadata": {},
   "outputs": [],
   "source": [
    "from google.ai import generativelanguage_v1beta as glvb"
   ]
  },
  {
   "cell_type": "code",
   "execution_count": 34,
   "metadata": {},
   "outputs": [
    {
     "ename": "AttributeError",
     "evalue": "module 'google.ai.generativelanguage_v1beta' has no attribute 'ModelsClient'",
     "output_type": "error",
     "traceback": [
      "\u001b[0;31m---------------------------------------------------------------------------\u001b[0m",
      "\u001b[0;31mAttributeError\u001b[0m                            Traceback (most recent call last)",
      "Input \u001b[0;32mIn [34]\u001b[0m, in \u001b[0;36m<cell line: 4>\u001b[0;34m()\u001b[0m\n\u001b[1;32m      1\u001b[0m \u001b[38;5;28;01mfrom\u001b[39;00m \u001b[38;5;21;01mgoogle\u001b[39;00m\u001b[38;5;21;01m.\u001b[39;00m\u001b[38;5;21;01mai\u001b[39;00m \u001b[38;5;28;01mimport\u001b[39;00m generativelanguage_v1beta\n\u001b[1;32m      3\u001b[0m \u001b[38;5;66;03m# Create a client\u001b[39;00m\n\u001b[0;32m----> 4\u001b[0m client \u001b[38;5;241m=\u001b[39m \u001b[43mgenerativelanguage_v1beta\u001b[49m\u001b[38;5;241;43m.\u001b[39;49m\u001b[43mModelsClient\u001b[49m()\n\u001b[1;32m      6\u001b[0m \u001b[38;5;66;03m# List models\u001b[39;00m\n\u001b[1;32m      7\u001b[0m models \u001b[38;5;241m=\u001b[39m \u001b[38;5;28mlist\u001b[39m(client\u001b[38;5;241m.\u001b[39mlist_models())\n",
      "\u001b[0;31mAttributeError\u001b[0m: module 'google.ai.generativelanguage_v1beta' has no attribute 'ModelsClient'"
     ]
    }
   ],
   "source": [
    "from google.ai import generativelanguage_v1beta\n",
    "\n",
    "# Create a client\n",
    "client = generativelanguage_v1beta.ModelsClient()\n",
    "\n",
    "# List models\n",
    "models = list(client.list_models())\n",
    "\n",
    "# Print model names\n",
    "for model in models:\n",
    "    print(model.name)"
   ]
  },
  {
   "cell_type": "code",
   "execution_count": 7,
   "metadata": {},
   "outputs": [
    {
     "name": "stdout",
     "output_type": "stream",
     "text": [
      "The meaning of life is a deep and complex question that has been pondered by philosophers, theologians, and everyday people for centuries. There is no one answer that is universally agreed upon, as the meaning of life is subjective and personal.\n",
      "\n",
      "Some people believe that the meaning of life is to find happiness and fulfillment. Others believe that it is to make a difference in the world and leave a lasting legacy. Still others believe that it is to connect with something greater than themselves, such as God or the universe.\n",
      "\n",
      "Ultimately, the meaning of life is what you make it. It is a journey of self-discovery and exploration, and there is no right or wrong answer. What matters most is that you find meaning and purpose in your own life, and that you live it to the fullest.\n",
      "\n",
      "Here are some common themes that people have identified as potential meanings of life:\n",
      "\n",
      "* **Happiness and fulfillment:** Many people believe that the meaning of life is to find happiness and fulfillment. This can be achieved through a variety of means, such as spending time with loved ones, pursuing your passions, or making a difference in the world.\n",
      "* **Purpose and meaning:** Some people believe that the meaning of life is to find a purpose or meaning that guides their actions and decisions. This can be a personal goal, such as raising a family or achieving a certain level of success, or it can be a broader goal, such as making the world a better place.\n",
      "* **Connection and community:** Many people believe that the meaning of life is to connect with others and build a sense of community. This can be achieved through family, friends, or shared interests and activities.\n",
      "* **Growth and learning:** Some people believe that the meaning of life is to grow and learn as a person. This can be achieved through education, travel, or new experiences.\n",
      "* **Spirituality and transcendence:** Many people believe that the meaning of life is to connect with something greater than themselves, such as God or the universe. This can be achieved through prayer, meditation, or other spiritual practices.\n",
      "\n",
      "Of course, these are just a few of the many possible meanings of life. The meaning of life is ultimately a personal question that each person must answer for themselves.\n"
     ]
    }
   ],
   "source": [
    "model = genai.GenerativeModel('gemini-1.0-pro-latest')\n",
    "response = model.generate_content(\"What is the meaning of life?\")\n",
    "\n",
    "print(response.text)"
   ]
  },
  {
   "cell_type": "code",
   "execution_count": 8,
   "metadata": {},
   "outputs": [
    {
     "data": {
      "text/markdown": [
       "The meaning of life is a deep and complex question that has been pondered by philosophers, theologians, and everyday people for centuries. There is no one answer that is universally agreed upon, as the meaning of life is subjective and personal.\n",
       "\n",
       "Some people believe that the meaning of life is to find happiness and fulfillment. Others believe that it is to make a difference in the world and leave a lasting legacy. Still others believe that it is to connect with something greater than themselves, such as God or the universe.\n",
       "\n",
       "Ultimately, the meaning of life is what you make it. It is a journey of self-discovery and exploration, and there is no right or wrong answer. What matters most is that you find meaning and purpose in your own life, and that you live it to the fullest.\n",
       "\n",
       "Here are some common themes that people have identified as potential meanings of life:\n",
       "\n",
       "* **Happiness and fulfillment:** Many people believe that the meaning of life is to find happiness and fulfillment. This can be achieved through a variety of means, such as spending time with loved ones, pursuing your passions, or making a difference in the world.\n",
       "* **Purpose and meaning:** Some people believe that the meaning of life is to find a purpose or meaning that guides their actions and decisions. This can be a personal goal, such as raising a family or achieving a certain level of success, or it can be a broader goal, such as making the world a better place.\n",
       "* **Connection and community:** Many people believe that the meaning of life is to connect with others and build a sense of community. This can be achieved through family, friends, or shared interests and activities.\n",
       "* **Growth and learning:** Some people believe that the meaning of life is to grow and learn as a person. This can be achieved through education, travel, or new experiences.\n",
       "* **Spirituality and transcendence:** Many people believe that the meaning of life is to connect with something greater than themselves, such as God or the universe. This can be achieved through prayer, meditation, or other spiritual practices.\n",
       "\n",
       "Of course, these are just a few of the many possible meanings of life. The meaning of life is ultimately a personal question that each person must answer for themselves."
      ],
      "text/plain": [
       "<IPython.core.display.Markdown object>"
      ]
     },
     "metadata": {},
     "output_type": "display_data"
    }
   ],
   "source": [
    "from IPython.display import Markdown, display\n",
    "display(Markdown(response.text))"
   ]
  },
  {
   "cell_type": "code",
   "execution_count": 10,
   "metadata": {},
   "outputs": [],
   "source": [
    "import requests"
   ]
  },
  {
   "cell_type": "code",
   "execution_count": 11,
   "metadata": {},
   "outputs": [],
   "source": [
    "url_ = \"https://www.googleapis.com/customsearch/v1\"\n",
    "\n",
    "def build_params(search_query, num = 10, start=1, dateRestrict='d1',**kwargs):\n",
    "\tparams = { 'q': search_query, \n",
    "\t\t   \t   'key': api_key, \n",
    "\t\t\t   'cx': search_en_id,\n",
    "\t\t\t   'num': num,\n",
    "\t\t\t   'start': 1,\n",
    "\t\t\t   'dateRestrict': 'd1',\n",
    "\t\t\t   }\n",
    "\tparams.update(kwargs)\n",
    "\treturn params\n",
    "\n",
    "def google_search(params):\n",
    "\tresponse = requests.get(url_, params=params)\n",
    "\tif response.status_code != 200:\n",
    "\t\traise Exception('API response: {}'.format(response.status_code))\n",
    "\treturn response.json()"
   ]
  },
  {
   "cell_type": "code",
   "execution_count": 17,
   "metadata": {},
   "outputs": [],
   "source": [
    "q = \"Odysseus moon lander\"\n",
    "response = google_search(build_params(q,num = 5))"
   ]
  },
  {
   "cell_type": "code",
   "execution_count": 19,
   "metadata": {},
   "outputs": [
    {
     "data": {
      "text/plain": [
       "{'kind': 'customsearch#search',\n",
       " 'url': {'type': 'application/json',\n",
       "  'template': 'https://www.googleapis.com/customsearch/v1?q={searchTerms}&num={count?}&start={startIndex?}&lr={language?}&safe={safe?}&cx={cx?}&sort={sort?}&filter={filter?}&gl={gl?}&cr={cr?}&googlehost={googleHost?}&c2coff={disableCnTwTranslation?}&hq={hq?}&hl={hl?}&siteSearch={siteSearch?}&siteSearchFilter={siteSearchFilter?}&exactTerms={exactTerms?}&excludeTerms={excludeTerms?}&linkSite={linkSite?}&orTerms={orTerms?}&dateRestrict={dateRestrict?}&lowRange={lowRange?}&highRange={highRange?}&searchType={searchType}&fileType={fileType?}&rights={rights?}&imgSize={imgSize?}&imgType={imgType?}&imgColorType={imgColorType?}&imgDominantColor={imgDominantColor?}&alt=json'},\n",
       " 'queries': {'request': [{'title': 'Google Custom Search - Odysseus moon lander',\n",
       "    'totalResults': '114000',\n",
       "    'searchTerms': 'Odysseus moon lander',\n",
       "    'count': 5,\n",
       "    'startIndex': 1,\n",
       "    'inputEncoding': 'utf8',\n",
       "    'outputEncoding': 'utf8',\n",
       "    'safe': 'off',\n",
       "    'cx': '81f056a85f5d74b4b',\n",
       "    'dateRestrict': 'd1'}],\n",
       "  'nextPage': [{'title': 'Google Custom Search - Odysseus moon lander',\n",
       "    'totalResults': '114000',\n",
       "    'searchTerms': 'Odysseus moon lander',\n",
       "    'count': 5,\n",
       "    'startIndex': 6,\n",
       "    'inputEncoding': 'utf8',\n",
       "    'outputEncoding': 'utf8',\n",
       "    'safe': 'off',\n",
       "    'cx': '81f056a85f5d74b4b',\n",
       "    'dateRestrict': 'd1'}]},\n",
       " 'context': {'title': 'search'},\n",
       " 'searchInformation': {'searchTime': 0.286532,\n",
       "  'formattedSearchTime': '0.29',\n",
       "  'totalResults': '114000',\n",
       "  'formattedTotalResults': '114,000'},\n",
       " 'items': [{'kind': 'customsearch#result',\n",
       "   'title': 'IM-1 Odysseus lunar lander',\n",
       "   'htmlTitle': 'IM-1 <b>Odysseus lunar lander</b>',\n",
       "   'link': 'https://forum.nasaspaceflight.com/index.php?topic=59696.360',\n",
       "   'displayLink': 'forum.nasaspaceflight.com',\n",
       "   'snippet': '23 hours ago ... IM-1 Odysseus lunar lander ... If I understand the comms docs correctly, the signal currently being observed (2210.6MHz) is the low bandwidth telemetry downlink.',\n",
       "   'htmlSnippet': '23 hours ago <b>...</b> IM-1 <b>Odysseus lunar lander</b> ... If I understand the comms docs correctly, the signal currently being observed (2210.6MHz) is the low bandwidth telemetry downlink.',\n",
       "   'cacheId': '7zvQJm0plPQJ',\n",
       "   'formattedUrl': 'https://forum.nasaspaceflight.com/index.php?topic=59696.360',\n",
       "   'htmlFormattedUrl': 'https://forum.nasaspaceflight.com/index.php?topic=59696.360',\n",
       "   'pagemap': {'metatags': [{'viewport': 'width=device-width, initial-scale=1,maximum-scale=1, user-scalable=no'}]}},\n",
       "  {'kind': 'customsearch#result',\n",
       "   'title': 'Odysseus moon landing: Historic mission reaches lunar surface | CNN',\n",
       "   'htmlTitle': '<b>Odysseus moon landing</b>: Historic mission reaches lunar surface | CNN',\n",
       "   'link': 'https://www.cnn.com/2024/02/22/world/moon-landing-intuitive-machines-nasa-scn/index.html',\n",
       "   'displayLink': 'www.cnn.com',\n",
       "   'snippet': '13 hours ago ... Odysseus landed at 6:23 p.m. ET Thursday, according to Intuitive Machines, after using its methane-fueled, onboard engine to steer itself toward the cratered\\xa0...',\n",
       "   'htmlSnippet': '13 hours ago <b>...</b> <b>Odysseus</b> landed at 6:23 p.m. ET Thursday, according to Intuitive Machines, after using its methane-fueled, onboard engine to steer itself toward the cratered&nbsp;...',\n",
       "   'formattedUrl': 'https://www.cnn.com/2024/02/22/world/moon-landing.../index.html',\n",
       "   'htmlFormattedUrl': 'https://www.cnn.com/2024/02/22/world/<b>moon</b>-landing.../index.html',\n",
       "   'pagemap': {'cse_thumbnail': [{'src': 'https://encrypted-tbn1.gstatic.com/images?q=tbn:ANd9GcQeS2bamco_9oWZaKWRZgErnksGP5u-TMlX0ygYuCecCXwgeJ9bwXqhgg',\n",
       "      'width': '143',\n",
       "      'height': '80'}],\n",
       "    'metatags': [{'og:image': 'https://media.cnn.com/api/v1/images/stellar/prod/gg5hguewaaaxah8.jpeg?c=16x9&q=w_800,c_fill',\n",
       "      'twitter:title': 'Odysseus moon landing: Historic mission reaches lunar surface | CNN',\n",
       "      'og:type': 'article',\n",
       "      'twitter:card': 'summary_large_image',\n",
       "      'article:published_time': '2024-02-22T22:45:02.097Z',\n",
       "      'og:site_name': 'CNN',\n",
       "      'author': 'Jackie Wattles, Ashley Strickland',\n",
       "      'og:title': 'Odysseus moon landing: Historic mission reaches lunar surface | CNN',\n",
       "      'meta-section': 'world',\n",
       "      'type': 'article',\n",
       "      'og:description': 'Intuitive Machines’ lunar lander successfully touched down, and mission control confirmed the Odysseus, or IM-1, spacecraft is upright, according to a company post.',\n",
       "      'twitter:image': 'https://media.cnn.com/api/v1/images/stellar/prod/gg5hguewaaaxah8.jpeg?c=16x9&q=w_800,c_fill',\n",
       "      'article:publisher': 'https://www.facebook.com/CNN',\n",
       "      'fb:app_id': '80401312489',\n",
       "      'twitter:site': '@CNN',\n",
       "      'article:modified_time': '2024-02-23T15:29:55.617Z',\n",
       "      'viewport': 'width=device-width,initial-scale=1,shrink-to-fit=no',\n",
       "      'twitter:description': 'Intuitive Machines’ lunar lander successfully touched down, and mission control confirmed the Odysseus, or IM-1, spacecraft is upright, according to a company post.',\n",
       "      'template_type': 'article_leaf',\n",
       "      'meta-branding': 'space-and-science',\n",
       "      'theme': 'world',\n",
       "      'og:url': 'https://www.cnn.com/2024/02/22/world/moon-landing-intuitive-machines-nasa-scn/index.html'}],\n",
       "    'cse_image': [{'src': 'https://media.cnn.com/api/v1/images/stellar/prod/gg5hguewaaaxah8.jpeg?c=16x9&q=w_800,c_fill'}]}},\n",
       "  {'kind': 'customsearch#result',\n",
       "   'title': \"Intuitive Machines' Odysseus moon lander didn't deploy camera ...\",\n",
       "   'htmlTitle': 'Intuitive Machines&#39; <b>Odysseus moon lander</b> didn&#39;t deploy camera ...',\n",
       "   'link': 'https://www.space.com/intuitive-machines-odysseus-moon-lander-no-landing-photos',\n",
       "   'displayLink': 'www.space.com',\n",
       "   'snippet': \"9 hours ago ... That epic touchdown came courtesy of Intuitive Machines' Odysseus lander, which lowered itself onto the gray dirt about 190 miles (300 kilometers) from the moon\\xa0...\",\n",
       "   'htmlSnippet': '9 hours ago <b>...</b> That epic touchdown came courtesy of Intuitive Machines&#39; <b>Odysseus lander</b>, which lowered itself onto the gray dirt about 190 miles (300 kilometers) from the <b>moon</b>&nbsp;...',\n",
       "   'cacheId': 'pfEKqH7j-X4J',\n",
       "   'formattedUrl': 'https://www.space.com/intuitive-machines-odysseus-moon-lander-no-landi...',\n",
       "   'htmlFormattedUrl': 'https://www.space.com/intuitive-machines-<b>odysseus</b>-<b>moon</b>-<b>lander</b>-no-landi...',\n",
       "   'pagemap': {'cse_thumbnail': [{'src': 'https://encrypted-tbn1.gstatic.com/images?q=tbn:ANd9GcRmRO9J4N6iaSDZydwr5XL0Uz314iLdCLIB6d20oJkAslFW3P1cF6nx_A4',\n",
       "      'width': '150',\n",
       "      'height': '99'}],\n",
       "    'imageobject': [{'copyrightholder': '(Image credit: Columbia Sportswear)',\n",
       "      'width': '338',\n",
       "      'caption': \"Artist's illustration of Intuitive Machines' Odysseus lander on the surface of the moon. (Image credit: Columbia Sportswear)\",\n",
       "      'description': \"Artist's illustration of Intuitive Machines' Odysseus lander on the surface of the moon. (Image credit: Columbia Sportswear)\",\n",
       "      'url': 'https://cdn.mos.cms.futurecdn.net/VZCQtibDDxWXMJ8D7CGHPa.jpg',\n",
       "      'height': '600'}],\n",
       "    'metatags': [{'p:domain_verify': '6873911a0960244b0806d7a9a2aba69b',\n",
       "      'og:image': 'https://cdn.mos.cms.futurecdn.net/VZCQtibDDxWXMJ8D7CGHPa-1200-80.jpg',\n",
       "      'og:image:width': '1200',\n",
       "      'article:published_time': '2024-02-23T19:37:16Z',\n",
       "      'twitter:card': 'summary_large_image',\n",
       "      'theme-color': '#3669c9',\n",
       "      'og:site_name': 'Space.com',\n",
       "      'taboola:url': 'https://www.space.com/intuitive-machines-odysseus-moon-lander-no-landing-photos',\n",
       "      'parsely-author': 'Mike Wall',\n",
       "      'msapplication-tileimage': 'https://vanilla.futurecdn.net/space/895740/apple-touch-icon.png',\n",
       "      'og:description': '\"However, both the Intuitive Machines and EagleCam teams still plan to deploy EagleCam and capture images of the lander on the lunar surface as the mission continues.\"',\n",
       "      'twitter:creator': '@SPACEdotcom',\n",
       "      'article:publisher': 'https://www.facebook.com/spacecom',\n",
       "      'twitter:image': 'https://cdn.mos.cms.futurecdn.net/VZCQtibDDxWXMJ8D7CGHPa-1200-80.jpg',\n",
       "      'pub_date': '2024-02-23T19:37:16+00:00',\n",
       "      'parsely-type': 'post',\n",
       "      'twitter:site': '@SPACEdotcom',\n",
       "      'article:modified_time': '2024-02-23T19:37:16Z',\n",
       "      'parsely-link': 'https://www.space.com/intuitive-machines-odysseus-moon-lander-no-landing-photos',\n",
       "      'parsely-image-url': 'https://cdn.mos.cms.futurecdn.net/VZCQtibDDxWXMJ8D7CGHPa.jpg',\n",
       "      'parsely-section': 'Missions',\n",
       "      'botify-site-verification': '2pzcQZFibLjk9GJgSZgweA8MU9al6utA',\n",
       "      'twitter:account_id': '9696142',\n",
       "      'msapplication-tilecolor': '#000000',\n",
       "      'og:type': 'article',\n",
       "      'twitter:title': \"Intuitive Machines' Odysseus moon lander didn't deploy camera during historic descent\",\n",
       "      'parsely-post-id': 'BbcwwtLv3mWmbxXpAKYL4J',\n",
       "      'msvalidate.01': 'CC462E6DF91492086145CA5EBDCB615E',\n",
       "      'og:title': \"Intuitive Machines' Odysseus moon lander didn't deploy camera during historic descent\",\n",
       "      'parsely-title': \"Intuitive Machines' Odysseus moon lander didn't deploy camera during historic descent\",\n",
       "      'parsely-pub-date': '2024-02-23T19:37:16Z',\n",
       "      'parsely-tags': 'Category: Missions,Category: Other,Category: News,intuitive machines,moon landing,odysseus,lunar landing,ndl,lunar payloads,lunar surface,moon,moon lander,type_news,apple-news-format,channel_other,serversidehawk,videoarticle',\n",
       "      'viewport': 'width=device-width,minimum-scale=1,initial-scale=1',\n",
       "      'twitter:description': '\"However, both the Intuitive Machines and EagleCam teams still plan to deploy EagleCam and capture images of the lander on the lunar surface as the mission continues.\"',\n",
       "      'og:url': 'https://www.space.com/intuitive-machines-odysseus-moon-lander-no-landing-photos'}],\n",
       "    'cse_image': [{'src': 'https://cdn.mos.cms.futurecdn.net/VZCQtibDDxWXMJ8D7CGHPa-1200-80.jpg'}]}},\n",
       "  {'kind': 'customsearch#result',\n",
       "   'title': \"Intuitive Machines: Odysseus Moon lander 'tipped over on touchdown'\",\n",
       "   'htmlTitle': 'Intuitive Machines: <b>Odysseus Moon lander</b> &#39;tipped over on touchdown&#39;',\n",
       "   'link': 'https://www.bbc.com/news/science-environment-68388695',\n",
       "   'displayLink': 'www.bbc.com',\n",
       "   'snippet': \"5 hours ago ... Intuitive Machines: Odysseus Moon lander 'tipped over on touchdown' · Steve Altemus, CEO of Intuitive Machines, describes what he thinks happened during landing.\",\n",
       "   'htmlSnippet': '5 hours ago <b>...</b> Intuitive Machines: <b>Odysseus Moon lander</b> &#39;tipped over on touchdown&#39; &middot; Steve Altemus, CEO of Intuitive Machines, describes what he thinks happened during landing.',\n",
       "   'cacheId': 'd7Se0RKZpN8J',\n",
       "   'formattedUrl': 'https://www.bbc.com/news/science-environment-68388695',\n",
       "   'htmlFormattedUrl': 'https://www.bbc.com/news/science-environment-68388695',\n",
       "   'pagemap': {'cse_thumbnail': [{'src': 'https://encrypted-tbn2.gstatic.com/images?q=tbn:ANd9GcQb6YnwYehpks6ddBvK7UnYA6bKnldLUFwH666sC9Asck1kgaHFHw-YzQ',\n",
       "      'width': '150',\n",
       "      'height': '84'}],\n",
       "    'metatags': [{'msapplication-tilecolor': '#da532c',\n",
       "      'og:image': 'https://ichef.bbci.co.uk/news/1024/branded_news/17EAA/production/_132726979_screenshot2024-02-23at22.10.54.png',\n",
       "      'twitter:title': \"Intuitive Machines: Odysseus Moon lander 'tipped over on touchdown'\",\n",
       "      'twitter:card': 'summary_large_image',\n",
       "      'og:image:alt': 'Odysseus lander',\n",
       "      'theme-color': '#ffffff',\n",
       "      'og:title': \"Intuitive Machines: Odysseus Moon lander 'tipped over on touchdown'\",\n",
       "      'og:description': 'The history-making robot likely caught its foot on a rock and fell on its side, US operator says.',\n",
       "      'version': '1.3.0+1',\n",
       "      'twitter:image:src': 'https://ichef.bbci.co.uk/news/1024/branded_news/17EAA/production/_132726979_screenshot2024-02-23at22.10.54.png',\n",
       "      'next-head-count': '28',\n",
       "      'twitter:image:alt': 'Odysseus lander',\n",
       "      'viewport': 'width=device-width',\n",
       "      'twitter:description': 'The history-making robot likely caught its foot on a rock and fell on its side, US operator says.'}],\n",
       "    'cse_image': [{'src': 'https://ichef.bbci.co.uk/news/1024/branded_news/17EAA/production/_132726979_screenshot2024-02-23at22.10.54.png'}]}},\n",
       "  {'kind': 'customsearch#result',\n",
       "   'title': 'Odysseus completes first US moon landing in 50 years: How did it ...',\n",
       "   'htmlTitle': '<b>Odysseus</b> completes first US <b>moon landing</b> in 50 years: How did it ...',\n",
       "   'link': 'https://www.aljazeera.com/news/2024/2/23/moon-landing-odysseus',\n",
       "   'displayLink': 'www.aljazeera.com',\n",
       "   'snippet': \"15 hours ago ... At what time was the moon landing? Odysseus landed at 6:23pm EST (23:23GMT) on Thursday. It was launched by SpaceX from NASA's Kennedy Space Center in Florida\\xa0...\",\n",
       "   'htmlSnippet': '15 hours ago <b>...</b> At what time was the <b>moon landing</b>? <b>Odysseus</b> landed at 6:23pm EST (23:23GMT) on Thursday. It was launched by SpaceX from NASA&#39;s Kennedy Space Center in Florida&nbsp;...',\n",
       "   'cacheId': 'vo4uKM4RFmoJ',\n",
       "   'formattedUrl': 'https://www.aljazeera.com/news/2024/2/23/moon-landing-odysseus',\n",
       "   'htmlFormattedUrl': 'https://www.aljazeera.com/news/2024/2/23/<b>moon</b>-landing-<b>odysseus</b>',\n",
       "   'pagemap': {'cse_thumbnail': [{'src': 'https://encrypted-tbn0.gstatic.com/images?q=tbn:ANd9GcSqL41Mftxux3SeVGRevbrvGYrEtq0pDv3vdMgBuxv5vJjKOdFxstxYqjM',\n",
       "      'width': '150',\n",
       "      'height': '113'}],\n",
       "    'metatags': [{'pagetype': 'Article Page',\n",
       "      'og:image': 'https://www.aljazeera.com/wp-content/uploads/2024/02/2024-02-23T012115Z_1994255192_RC2186AZ3X80_RTRMADP_3_SPACE-EXPLORATION-MOON-1708675128.jpg?resize=1920%2C1440',\n",
       "      'apple-itunes-app': 'app-id=1534955972',\n",
       "      'twitter:card': 'summary_large_image',\n",
       "      'og:site_name': 'Al Jazeera',\n",
       "      'twitter:url': 'https://www.aljazeera.com/news/2024/2/23/moon-landing-odysseus',\n",
       "      'pagesection': 'News,Space',\n",
       "      'channel': 'aje',\n",
       "      'publisheddate': '2024-02-23T12:59:23',\n",
       "      'postid': '2727200',\n",
       "      'source': 'Al Jazeera',\n",
       "      'video': '1',\n",
       "      'displayauthors': 'Al Jazeera Staff',\n",
       "      'og:description': 'Technical issues forced it to take an extra lap around the moon, but the craft carrying NASA cargo has landed safely.',\n",
       "      'taxonomyterms': 'News, Space, United States',\n",
       "      'lastdate': '2024-02-23T12:59:23',\n",
       "      'primarytopic': 'News',\n",
       "      'twitter:image:alt': 'Odysseus completes first US moon landing in 50 years: How did it unfold?',\n",
       "      'sourcetaxonomy': 'Al Jazeera',\n",
       "      'internalreporting': 'Break it down for me',\n",
       "      'featuredmedia': 'BC-6347426434112',\n",
       "      'bcvideotitle': \"Intuitive Machines' Odysseus Spacecraft Successfully Lands on Lunar South Pole\",\n",
       "      'where': 'United States',\n",
       "      'primarytag': 'Space',\n",
       "      'ga': 'UA-1615344-7',\n",
       "      'ga4': 'G-XN9JB9Q0M1',\n",
       "      'twitter:account_id': '5536782',\n",
       "      'pageauthors': 'Al Jazeera Staff',\n",
       "      'og:type': 'article',\n",
       "      'twitter:title': 'Odysseus completes first US moon landing in 50 years: How did it unfold?',\n",
       "      'taxonomy-tags': 'News, Space',\n",
       "      'topics': 'News',\n",
       "      'author': 'Al Jazeera Staff',\n",
       "      'og:title': 'Odysseus completes first US moon landing in 50 years: How did it unfold?',\n",
       "      'ia:markup_url': 'https://www.aljazeera.com/ia_markup/news/2024/2/23/moon-landing-odysseus',\n",
       "      'tags': 'Space',\n",
       "      'contenttype': 'post',\n",
       "      'twitter:image:src': 'https://www.aljazeera.com/wp-content/uploads/2024/02/2024-02-23T012115Z_1994255192_RC2186AZ3X80_RTRMADP_3_SPACE-EXPLORATION-MOON-1708675128.jpg?resize=1920%2C1440',\n",
       "      'articleslug': 'moon-landing-odysseus',\n",
       "      'postlink': '/news/2024/2/23/moon-landing-odysseus',\n",
       "      'viewport': 'width=device-width,initial-scale=1,shrink-to-fit=no',\n",
       "      'twitter:description': 'Technical issues forced it to take an extra lap around the moon, but the craft carrying NASA cargo has landed safely.',\n",
       "      'pagetitle': 'Odysseus completes first US moon landing in 50 years: How did it unfold?',\n",
       "      'og:url': 'https://www.aljazeera.com/news/2024/2/23/moon-landing-odysseus'}],\n",
       "    'cse_image': [{'src': 'https://www.aljazeera.com/wp-content/uploads/2024/02/2024-02-23T012115Z_1994255192_RC2186AZ3X80_RTRMADP_3_SPACE-EXPLORATION-MOON-1708675128.jpg?resize=1920%2C1440'}]}}]}"
      ]
     },
     "execution_count": 19,
     "metadata": {},
     "output_type": "execute_result"
    }
   ],
   "source": [
    "response"
   ]
  },
  {
   "cell_type": "code",
   "execution_count": 29,
   "metadata": {},
   "outputs": [
    {
     "name": "stdout",
     "output_type": "stream",
     "text": [
      "URL : https://forum.nasaspaceflight.com/index.php?topic=59696.360  title : IM-1 Odysseus lunar lander\n",
      "Snippet : 23 hours ago ... IM-1 Odysseus lunar lander ... If I understand the comms docs correctly, the signal currently being observed (2210.6MHz) is the low bandwidth telemetry downlink.\n",
      "\n",
      "\n",
      "URL : https://www.cnn.com/2024/02/22/world/moon-landing-intuitive-machines-nasa-scn/index.html  title : Odysseus moon landing: Historic mission reaches lunar surface | CNN\n",
      "Snippet : 13 hours ago ... Odysseus landed at 6:23 p.m. ET Thursday, according to Intuitive Machines, after using its methane-fueled, onboard engine to steer itself toward the cratered ...\n",
      "twitter : Intuitive Machines’ lunar lander successfully touched down, and mission control confirmed the Odysseus, or IM-1, spacecraft is upright, according to a company post.\n",
      "\n",
      "\n",
      "URL : https://www.space.com/intuitive-machines-odysseus-moon-lander-no-landing-photos  title : Intuitive Machines' Odysseus moon lander didn't deploy camera ...\n",
      "Snippet : 9 hours ago ... That epic touchdown came courtesy of Intuitive Machines' Odysseus lander, which lowered itself onto the gray dirt about 190 miles (300 kilometers) from the moon ...\n",
      "twitter : \"However, both the Intuitive Machines and EagleCam teams still plan to deploy EagleCam and capture images of the lander on the lunar surface as the mission continues.\"\n",
      "\n",
      "\n",
      "URL : https://www.bbc.com/news/science-environment-68388695  title : Intuitive Machines: Odysseus Moon lander 'tipped over on touchdown'\n",
      "Snippet : 5 hours ago ... Intuitive Machines: Odysseus Moon lander 'tipped over on touchdown' · Steve Altemus, CEO of Intuitive Machines, describes what he thinks happened during landing.\n",
      "twitter : The history-making robot likely caught its foot on a rock and fell on its side, US operator says.\n",
      "\n",
      "\n",
      "URL : https://www.aljazeera.com/news/2024/2/23/moon-landing-odysseus  title : Odysseus completes first US moon landing in 50 years: How did it ...\n",
      "Snippet : 15 hours ago ... At what time was the moon landing? Odysseus landed at 6:23pm EST (23:23GMT) on Thursday. It was launched by SpaceX from NASA's Kennedy Space Center in Florida ...\n",
      "twitter : Technical issues forced it to take an extra lap around the moon, but the craft carrying NASA cargo has landed safely.\n",
      "\n",
      "\n"
     ]
    }
   ],
   "source": [
    "for i in response['items']:\n",
    "\turl, title = i['link'], i['title']\n",
    "\tprint(f\"URL : {url}  title : {title}\")\n",
    "\tprint(f\"Snippet : {i['snippet']}\")\n",
    "\t# print(f'metatags : {i[\"pagemap\"][\"metatags\"]}\\n')\n",
    "\ttry:\n",
    "\t\tprint(f'twitter : {i[\"pagemap\"][\"metatags\"][0][\"twitter:description\"]}')\n",
    "\texcept: \n",
    "\t\tpass\n",
    "\tfinally:\n",
    "\t\tprint('\\n')\n",
    "\t# print(f'twitter : {i[\"pagemap\"][\"metatags\"]}\\n')"
   ]
  },
  {
   "cell_type": "code",
   "execution_count": null,
   "metadata": {},
   "outputs": [],
   "source": []
  }
 ],
 "metadata": {
  "kernelspec": {
   "display_name": "Python 3",
   "language": "python",
   "name": "python3"
  },
  "language_info": {
   "codemirror_mode": {
    "name": "ipython",
    "version": 3
   },
   "file_extension": ".py",
   "mimetype": "text/x-python",
   "name": "python",
   "nbconvert_exporter": "python",
   "pygments_lexer": "ipython3",
   "version": "3.10.13"
  }
 },
 "nbformat": 4,
 "nbformat_minor": 2
}
