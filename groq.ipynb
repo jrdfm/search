{
 "cells": [
  {
   "cell_type": "code",
   "execution_count": 1,
   "metadata": {},
   "outputs": [
    {
     "name": "stdout",
     "output_type": "stream",
     "text": [
      "2024-03-11 20:31:51 - Loaded .env file\n"
     ]
    }
   ],
   "source": [
    "import PyPDF2\n",
    "from langchain_community.embeddings import OllamaEmbeddings\n",
    "from langchain.text_splitter import RecursiveCharacterTextSplitter\n",
    "from langchain_community.vectorstores import Chroma\n",
    "from langchain.chains import ConversationalRetrievalChain\n",
    "from langchain_community.chat_models import ChatOllama\n",
    "from langchain_groq import ChatGroq\n",
    "from langchain.memory import ChatMessageHistory, ConversationBufferMemory\n",
    "import chainlit as cl"
   ]
  },
  {
   "cell_type": "code",
   "execution_count": 24,
   "metadata": {},
   "outputs": [],
   "source": [
    "import os, wget\n",
    "from langchain_community.document_loaders import PyPDFLoader\n",
    "from langchain_experimental.text_splitter import SemanticChunker\n",
    "from langchain_text_splitters import RecursiveCharacterTextSplitter\n",
    "from langchain_community.vectorstores import FAISS\n",
    "from langchain_community.vectorstores import Chroma\n",
    "from langchain_google_genai import GoogleGenerativeAIEmbeddings\n",
    "from langchain.embeddings.fastembed import FastEmbedEmbeddings\n",
    "from langchain_community.document_loaders import TextLoader\n",
    "\n",
    "from IPython.display import Markdown, display"
   ]
  },
  {
   "cell_type": "code",
   "execution_count": 3,
   "metadata": {},
   "outputs": [],
   "source": [
    "def printmd(string):\n",
    "\tdisplay(Markdown(string))"
   ]
  },
  {
   "cell_type": "code",
   "execution_count": 1,
   "metadata": {},
   "outputs": [],
   "source": [
    "\n",
    "\n",
    "# Update with your API URL if using a hosted instance of Langsmith.\n",
    "os.environ[\"LANGCHAIN_ENDPOINT\"] = \"https://api.smith.langchain.com\"\n",
    "os.environ[\"LANGCHAIN_API_KEY\"] = \"ls__b338d581f71b48b099c981bf36b095b6\"  # Update with your API key\n",
    "os.environ[\"LANGCHAIN_TRACING_V2\"] = \"true\"\n",
    "project_name = \"groq\"  # Update with your project name\n",
    "os.environ[\"LANGCHAIN_PROJECT\"] = project_name  # Optional: \"default\" is used if not set"
   ]
  },
  {
   "cell_type": "code",
   "execution_count": 1,
   "metadata": {},
   "outputs": [],
   "source": [
    "from langchain_google_genai import (\n",
    "    ChatGoogleGenerativeAI,\n",
    "    HarmBlockThreshold,\n",
    "    HarmCategory,\n",
    ")\n",
    "from dotenv import load_dotenv\n",
    "# safe ={\n",
    "# \tHarmCategory.HARM_CATEGORY_HATE_SPEECH: HarmBlockThreshold.BLOCK_NONE,\n",
    "# \tHarmCategory.HARM_CATEGORY_HARASSMENT: HarmBlockThreshold.BLOCK_NONE,\n",
    "# \tHarmCategory.HARM_CATEGORY_SEXUALLY_EXPLICIT: HarmBlockThreshold.BLOCK_NONE,\n",
    "# \tHarmCategory.HARM_CATEGORY_DANGEROUS_CONTENT: HarmBlockThreshold.BLOCK_NONE,\n",
    "# \t}\n",
    "\n",
    "# generation_config = {\n",
    "#   \"temperature\": 0.9,\n",
    "#   \"top_p\": 1,\n",
    "#   \"top_k\": 1,\n",
    "#   \"max_output_tokens\": 10000,\n",
    "# }"
   ]
  },
  {
   "cell_type": "code",
   "execution_count": 4,
   "metadata": {},
   "outputs": [],
   "source": [
    "GOOGLE_API_KEY = os.getenv('GOOGLE_API_KEY')"
   ]
  },
  {
   "cell_type": "code",
   "execution_count": 2,
   "metadata": {},
   "outputs": [],
   "source": [
    "# llm = ChatGoogleGenerativeAI(model=\"gemini-1.0-pro-latest\", convert_system_message_to_human=True, generation_config=generation_config,safety_settings=safe, embeddings=OllamaEmbeddings(model=\"nomic-embed-text\"))\n",
    "llm = ChatGoogleGenerativeAI(model=\"gemini-1.0-pro-latest\", convert_system_message_to_human=True)\n"
   ]
  },
  {
   "cell_type": "code",
   "execution_count": 3,
   "metadata": {},
   "outputs": [
    {
     "data": {
      "text/plain": [
       "ChatGoogleGenerativeAI(model='gemini-1.0-pro-latest', client= genai.GenerativeModel(\n",
       "   model_name='models/gemini-1.0-pro-latest',\n",
       "   generation_config={}.\n",
       "   safety_settings={}\n",
       "), convert_system_message_to_human=True)"
      ]
     },
     "execution_count": 3,
     "metadata": {},
     "output_type": "execute_result"
    }
   ],
   "source": [
    "llm"
   ]
  },
  {
   "cell_type": "code",
   "execution_count": 4,
   "metadata": {},
   "outputs": [
    {
     "data": {
      "text/plain": [
       "['Config',\n",
       " 'InputType',\n",
       " 'OutputType',\n",
       " '__abstractmethods__',\n",
       " '__annotations__',\n",
       " '__call__',\n",
       " '__class__',\n",
       " '__class_getitem__',\n",
       " '__class_vars__',\n",
       " '__config__',\n",
       " '__custom_root_type__',\n",
       " '__delattr__',\n",
       " '__dict__',\n",
       " '__dir__',\n",
       " '__doc__',\n",
       " '__eq__',\n",
       " '__exclude_fields__',\n",
       " '__fields__',\n",
       " '__fields_set__',\n",
       " '__format__',\n",
       " '__ge__',\n",
       " '__get_validators__',\n",
       " '__getattribute__',\n",
       " '__getstate__',\n",
       " '__gt__',\n",
       " '__hash__',\n",
       " '__include_fields__',\n",
       " '__init__',\n",
       " '__init_subclass__',\n",
       " '__iter__',\n",
       " '__json_encoder__',\n",
       " '__le__',\n",
       " '__lt__',\n",
       " '__module__',\n",
       " '__ne__',\n",
       " '__new__',\n",
       " '__or__',\n",
       " '__orig_bases__',\n",
       " '__parameters__',\n",
       " '__post_root_validators__',\n",
       " '__pre_root_validators__',\n",
       " '__pretty__',\n",
       " '__private_attributes__',\n",
       " '__reduce__',\n",
       " '__reduce_ex__',\n",
       " '__repr__',\n",
       " '__repr_args__',\n",
       " '__repr_name__',\n",
       " '__repr_str__',\n",
       " '__rich_repr__',\n",
       " '__ror__',\n",
       " '__schema_cache__',\n",
       " '__setattr__',\n",
       " '__setstate__',\n",
       " '__signature__',\n",
       " '__sizeof__',\n",
       " '__slots__',\n",
       " '__str__',\n",
       " '__subclasshook__',\n",
       " '__try_update_forward_refs__',\n",
       " '__validators__',\n",
       " '__weakref__',\n",
       " '_abatch_with_config',\n",
       " '_abc_impl',\n",
       " '_acall_with_config',\n",
       " '_agenerate',\n",
       " '_agenerate_with_cache',\n",
       " '_all_required_field_names',\n",
       " '_astream',\n",
       " '_atransform_stream_with_config',\n",
       " '_batch_with_config',\n",
       " '_calculate_keys',\n",
       " '_call_async',\n",
       " '_call_with_config',\n",
       " '_combine_llm_outputs',\n",
       " '_convert_input',\n",
       " '_copy_and_set_values',\n",
       " '_decompose_class',\n",
       " '_enforce_dict_if_root',\n",
       " '_generate',\n",
       " '_generate_with_cache',\n",
       " '_get_invocation_params',\n",
       " '_get_llm_string',\n",
       " '_get_value',\n",
       " '_identifying_params',\n",
       " '_init_private_attributes',\n",
       " '_is_protocol',\n",
       " '_iter',\n",
       " '_lc_kwargs',\n",
       " '_llm_type',\n",
       " '_model_family',\n",
       " '_prepare_chat',\n",
       " '_prepare_params',\n",
       " '_stream',\n",
       " '_transform_stream_with_config',\n",
       " 'abatch',\n",
       " 'agenerate',\n",
       " 'agenerate_prompt',\n",
       " 'ainvoke',\n",
       " 'apredict',\n",
       " 'apredict_messages',\n",
       " 'assign',\n",
       " 'astream',\n",
       " 'astream_events',\n",
       " 'astream_log',\n",
       " 'atransform',\n",
       " 'batch',\n",
       " 'bind',\n",
       " 'cache',\n",
       " 'call_as_llm',\n",
       " 'callback_manager',\n",
       " 'callbacks',\n",
       " 'client',\n",
       " 'client_options',\n",
       " 'config_schema',\n",
       " 'config_specs',\n",
       " 'configurable_alternatives',\n",
       " 'configurable_fields',\n",
       " 'construct',\n",
       " 'convert_system_message_to_human',\n",
       " 'copy',\n",
       " 'dict',\n",
       " 'from_orm',\n",
       " 'generate',\n",
       " 'generate_prompt',\n",
       " 'get_graph',\n",
       " 'get_input_schema',\n",
       " 'get_lc_namespace',\n",
       " 'get_name',\n",
       " 'get_num_tokens',\n",
       " 'get_num_tokens_from_messages',\n",
       " 'get_output_schema',\n",
       " 'get_prompts',\n",
       " 'get_token_ids',\n",
       " 'google_api_key',\n",
       " 'input_schema',\n",
       " 'invoke',\n",
       " 'is_lc_serializable',\n",
       " 'json',\n",
       " 'lc_attributes',\n",
       " 'lc_id',\n",
       " 'lc_secrets',\n",
       " 'map',\n",
       " 'max_output_tokens',\n",
       " 'max_retries',\n",
       " 'metadata',\n",
       " 'model',\n",
       " 'n',\n",
       " 'name',\n",
       " 'output_schema',\n",
       " 'parse_file',\n",
       " 'parse_obj',\n",
       " 'parse_raw',\n",
       " 'pick',\n",
       " 'pipe',\n",
       " 'predict',\n",
       " 'predict_messages',\n",
       " 'raise_deprecation',\n",
       " 'safety_settings',\n",
       " 'schema',\n",
       " 'schema_json',\n",
       " 'stream',\n",
       " 'tags',\n",
       " 'temperature',\n",
       " 'to_json',\n",
       " 'to_json_not_implemented',\n",
       " 'top_k',\n",
       " 'top_p',\n",
       " 'transform',\n",
       " 'transport',\n",
       " 'update_forward_refs',\n",
       " 'validate',\n",
       " 'validate_environment',\n",
       " 'verbose',\n",
       " 'with_config',\n",
       " 'with_fallbacks',\n",
       " 'with_listeners',\n",
       " 'with_retry',\n",
       " 'with_structured_output',\n",
       " 'with_types']"
      ]
     },
     "execution_count": 4,
     "metadata": {},
     "output_type": "execute_result"
    }
   ],
   "source": [
    "dir(llm)"
   ]
  },
  {
   "cell_type": "code",
   "execution_count": 8,
   "metadata": {},
   "outputs": [
    {
     "name": "stdout",
     "output_type": "stream",
     "text": [
      "0.7\n"
     ]
    }
   ],
   "source": [
    "print(llm.temperature)"
   ]
  },
  {
   "cell_type": "code",
   "execution_count": null,
   "metadata": {},
   "outputs": [],
   "source": [
    "llm_local = ChatOllama(model=\"mistral:instruct\")\n",
    "llm_groq = ChatGroq(\n",
    "            #groq_api_key=groq_api_key,\n",
    "            #model_name='llama2-70b-4096' \n",
    "            model_name='mixtral-8x7b-32768'\n",
    "    )"
   ]
  },
  {
   "cell_type": "code",
   "execution_count": 3,
   "metadata": {},
   "outputs": [],
   "source": [
    "\n",
    "\n",
    "# embeddings = GoogleGenerativeAIEmbeddings(model=\"models/embedding-001\")\n"
   ]
  },
  {
   "cell_type": "code",
   "execution_count": 13,
   "metadata": {},
   "outputs": [
    {
     "data": {
      "text/plain": [
       "301896"
      ]
     },
     "execution_count": 13,
     "metadata": {},
     "output_type": "execute_result"
    }
   ],
   "source": [
    "# open the_prince.txt and read the text\n",
    "with open('the_prince.txt', 'r') as file:\n",
    "    text = file.read()\t\n",
    "len(text)\n",
    "# loader = TextLoader('the_prince.txt')\n",
    "# documents = loader.load()"
   ]
  },
  {
   "cell_type": "code",
   "execution_count": 14,
   "metadata": {},
   "outputs": [],
   "source": [
    "# loader = PyPDFLoader(\"Machiavelli_The_Prince.pdf\")\n",
    "# pages = loader.load_and_split()\n",
    "\n",
    "# text = \" \".join(page.page_content for page in pages)"
   ]
  },
  {
   "cell_type": "code",
   "execution_count": 25,
   "metadata": {},
   "outputs": [],
   "source": [
    "# embeddings_model = GoogleGenerativeAIEmbeddings(model=\"models/embedding-001\")\n",
    "# embeddings_model = FastEmbedEmbeddings()\n",
    "embeddings = OllamaEmbeddings(model=\"nomic-embed-text\")"
   ]
  },
  {
   "cell_type": "code",
   "execution_count": 14,
   "metadata": {},
   "outputs": [
    {
     "name": "stdout",
     "output_type": "stream",
     "text": [
      "CPU times: user 4.28 s, sys: 63.7 ms, total: 4.34 s\n",
      "Wall time: 14.1 s\n"
     ]
    }
   ],
   "source": [
    "%%time\n",
    "# Initialize the semantic chunker with the pre-generated embeddings\n",
    "chunker = SemanticChunker(embeddings_model)\n",
    "\n",
    "# Split the text into chunks based on the embeddings\n",
    "chunks = chunker.create_documents([text])    "
   ]
  },
  {
   "cell_type": "code",
   "execution_count": 26,
   "metadata": {},
   "outputs": [
    {
     "name": "stdout",
     "output_type": "stream",
     "text": [
      "CPU times: user 9.25 ms, sys: 0 ns, total: 9.25 ms\n",
      "Wall time: 9.08 ms\n"
     ]
    }
   ],
   "source": [
    "%%time\n",
    "text_splitter = RecursiveCharacterTextSplitter(\n",
    "    # Set a really small chunk size, just to show.\n",
    "    chunk_size=2000,\n",
    "    chunk_overlap=100,\n",
    "    length_function=len,\n",
    "    is_separator_regex=False,\n",
    ")\n",
    "\n",
    "texts = text_splitter.create_documents([text])"
   ]
  },
  {
   "cell_type": "code",
   "execution_count": 41,
   "metadata": {},
   "outputs": [],
   "source": [
    "\n",
    "embeddings_model = GoogleGenerativeAIEmbeddings(model=\"models/embedding-001\")\n",
    "# db = FAISS.from_documents(texts, embeddings_model)\n",
    "db = Chroma.from_documents(texts, embeddings_model)\n"
   ]
  },
  {
   "cell_type": "code",
   "execution_count": 42,
   "metadata": {},
   "outputs": [],
   "source": [
    "query = \"How did Francesco Sforza rose to be Duke of Milan?\"\n",
    "docs = db.similarity_search(query)\n",
    "\n",
    "# print results\n"
   ]
  },
  {
   "cell_type": "code",
   "execution_count": 43,
   "metadata": {},
   "outputs": [
    {
     "data": {
      "text/markdown": [
       "Concerning these two methods of rising to be a prince by ability or\n",
       "fortune, I wish to adduce two examples within our own recollection, and\n",
       "these are Francesco Sforza[2] and Cesare Borgia. Francesco, by proper\n",
       "means and with great ability, from being a private person rose to be\n",
       "Duke of Milan, and that which he had acquired with a thousand anxieties\n",
       "he kept with little trouble. On the other hand, Cesare Borgia, called\n",
       "by the people Duke Valentino, acquired his state during the ascendancy\n",
       "of his father, and on its decline he lost it, notwithstanding that he\n",
       "had taken every measure and done all that ought to be done by a wise\n",
       "and able man to fix firmly his roots in the states which the arms and\n",
       "fortunes of others had bestowed on him.\n",
       "\n",
       " [2] Francesco Sforza, born 1401, died 1466. He married Bianca Maria\n",
       " Visconti, a natural daughter of Filippo Visconti, the Duke of Milan,\n",
       " on whose death he procured his own elevation to the duchy. Machiavelli\n",
       " was the accredited agent of the Florentine Republic to Cesare Borgia\n",
       " (1478-1507) during the transactions which led up to the assassinations\n",
       " of the Orsini and Vitelli at Sinigalia, and along with his letters to\n",
       " his chiefs in Florence he has left an account, written ten years\n",
       " before _The Prince_, of the proceedings of the duke in his\n",
       " “Descritione del modo tenuto dal duca Valentino nello ammazzare\n",
       " Vitellozzo Vitelli,” etc., a translation of which is appended to the\n",
       " present work."
      ],
      "text/plain": [
       "<IPython.core.display.Markdown object>"
      ]
     },
     "metadata": {},
     "output_type": "display_data"
    },
    {
     "data": {
      "text/markdown": [
       "Alexander the Sixth, in wishing to aggrandize the duke, his son, had\n",
       "many immediate and prospective difficulties. Firstly, he did not see\n",
       "his way to make him master of any state that was not a state of the\n",
       "Church; and if he was willing to rob the Church he knew that the Duke\n",
       "of Milan and the Venetians would not consent, because Faenza and Rimini\n",
       "were already under the protection of the Venetians. Besides this, he\n",
       "saw the arms of Italy, especially those by which he might have been\n",
       "assisted, in hands that would fear the aggrandizement of the Pope,\n",
       "namely, the Orsini and the Colonnesi and their following. It behoved\n",
       "him, therefore, to upset this state of affairs and embroil the powers,\n",
       "so as to make himself securely master of part of their states. This was\n",
       "easy for him to do, because he found the Venetians, moved by other\n",
       "reasons, inclined to bring back the French into Italy; he would not\n",
       "only not oppose this, but he would render it more easy by dissolving\n",
       "the former marriage of King Louis. Therefore the king came into Italy\n",
       "with the assistance of the Venetians and the consent of Alexander. He\n",
       "was no sooner in Milan than the Pope had soldiers from him for the\n",
       "attempt on the Romagna, which yielded to him on the reputation of the\n",
       "king. The duke, therefore, having acquired the Romagna and beaten the\n",
       "Colonnesi, while wishing to hold that and to advance further, was\n",
       "hindered by two things: the one, his forces did not appear loyal to\n",
       "him, the other, the goodwill of France: that is to say, he feared that\n",
       "the forces of the Orsini, which he was using, would not stand to him,\n",
       "that not only might they hinder him from winning more, but might\n",
       "themselves seize what he had won, and that the king might also do the\n",
       "same. Of the Orsini he had a warning when, after taking Faenza and\n",
       "attacking Bologna, he saw them go very unwillingly to that attack. And\n",
       "as to the king, he learned his mind when he himself, after taking the"
      ],
      "text/plain": [
       "<IPython.core.display.Markdown object>"
      ]
     },
     "metadata": {},
     "output_type": "display_data"
    },
    {
     "data": {
      "text/markdown": [
       "Frederick, having appointed a governor in Rome to watch his Italian\n",
       "affairs, returned to Germany. All the Tuscan and Lombardian\n",
       "Ghibellines, who followed the imperial lead, had recourse to Castruccio\n",
       "for help and counsel, and all promised him the governorship of his\n",
       "country, if enabled to recover it with his assistance. Among these\n",
       "exiles were Matteo Guidi, Nardo Scolari, Lapo Uberti, Gerozzo Nardi,\n",
       "and Piero Buonaccorsi, all exiled Florentines and Ghibellines.\n",
       "Castruccio had the secret intention of becoming the master of all\n",
       "Tuscany by the aid of these men and of his own forces; and in order to\n",
       "gain greater weight in affairs, he entered into a league with Messer\n",
       "Matteo Visconti, the Prince of Milan, and organized for him the forces\n",
       "of his city and the country districts. As Lucca had five gates, he\n",
       "divided his own country districts into five parts, which he supplied\n",
       "with arms, and enrolled the men under captains and ensigns, so that he\n",
       "could quickly bring into the field twenty thousand soldiers, without\n",
       "those whom he could summon to his assistance from Pisa. While he\n",
       "surrounded himself with these forces and allies, it happened at Messer\n",
       "Matteo Visconti was attacked by the Guelphs of Piacenza, who had driven\n",
       "out the Ghibellines with the assistance of a Florentine army and the\n",
       "King Ruberto. Messer Matteo called upon Castruccio to invade the\n",
       "Florentines in their own territories, so that, being attacked at home,\n",
       "they should be compelled to draw their army out of Lombardy in order to\n",
       "defend themselves. Castruccio invaded the Valdarno, and seized\n",
       "Fucecchio and San Miniato, inflicting immense damage upon the country.\n",
       "Whereupon the Florentines recalled their army, which had scarcely\n",
       "reached Tuscany, when Castruccio was forced by other necessities to\n",
       "return to Lucca."
      ],
      "text/plain": [
       "<IPython.core.display.Markdown object>"
      ]
     },
     "metadata": {},
     "output_type": "display_data"
    }
   ],
   "source": [
    "for i in range(3):\t\n",
    "\tprintmd(docs[i].page_content)"
   ]
  },
  {
   "cell_type": "code",
   "execution_count": 20,
   "metadata": {},
   "outputs": [],
   "source": [
    "import matplotlib.pyplot as plt\n",
    "import tiktoken"
   ]
  },
  {
   "cell_type": "code",
   "execution_count": 21,
   "metadata": {},
   "outputs": [],
   "source": [
    "def num_tokens_from_string(string: str, encoding_name: str) -> int:\n",
    "    \"\"\"Returns the number of tokens in a text string.\"\"\"\n",
    "    encoding = tiktoken.get_encoding(encoding_name)\n",
    "    num_tokens = len(encoding.encode(string))\n",
    "    return num_tokens"
   ]
  },
  {
   "cell_type": "code",
   "execution_count": 27,
   "metadata": {},
   "outputs": [
    {
     "data": {
      "text/plain": [
       "<function matplotlib.pyplot.show(close=None, block=None)>"
      ]
     },
     "execution_count": 27,
     "metadata": {},
     "output_type": "execute_result"
    },
    {
     "data": {
      "image/png": "[encoded data removed]",
      "text/plain": [
       "<Figure size 720x432 with 1 Axes>"
      ]
     },
     "metadata": {
      "needs_background": "light"
     },
     "output_type": "display_data"
    }
   ],
   "source": [
    "docs_texts = [d.page_content for d in texts]\n",
    "\n",
    "# Calculate the number of tokens for each document\n",
    "counts = [num_tokens_from_string(d, \"cl100k_base\") for d in docs_texts]\n",
    "\n",
    "# Plotting the histogram of token counts\n",
    "plt.figure(figsize=(10, 6))\n",
    "plt.hist(counts, bins=30, color=\"blue\", edgecolor=\"black\", alpha=0.7)\n",
    "plt.title(\"Histogram of Token Counts\")\n",
    "plt.xlabel(\"Token Count\")\n",
    "plt.ylabel(\"Frequency\")\n",
    "plt.grid(axis=\"y\", alpha=0.75)\n",
    "\n",
    "# Display the histogram\n",
    "plt.show"
   ]
  },
  {
   "cell_type": "code",
   "execution_count": null,
   "metadata": {},
   "outputs": [],
   "source": []
  }
 ],
 "metadata": {
  "kernelspec": {
   "display_name": "Python 3",
   "language": "python",
   "name": "python3"
  },
  "language_info": {
   "codemirror_mode": {
    "name": "ipython",
    "version": 3
   },
   "file_extension": ".py",
   "mimetype": "text/x-python",
   "name": "python",
   "nbconvert_exporter": "python",
   "pygments_lexer": "ipython3",
   "version": "3.10.13"
  }
 },
 "nbformat": 4,
 "nbformat_minor": 2
}
